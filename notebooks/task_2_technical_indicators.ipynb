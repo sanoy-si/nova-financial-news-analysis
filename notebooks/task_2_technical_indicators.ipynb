{
 "cells": [
  {
   "cell_type": "code",
   "execution_count": null,
   "id": "99225f0d",
   "metadata": {},
   "outputs": [],
   "source": [
    "import pandas as pd\n",
    "import os\n",
    "\n",
    "data_dir = '../data/raw/y_finance data'\n",
    "stock_dfs = {}\n",
    "\n",
    "for file in os.listdir(data_dir):\n",
    "    if file.endswith('.csv'):\n",
    "        ticker = file.replace('.csv', '')\n",
    "        df = pd.read_csv(os.path.join(data_dir, file), parse_dates=['Date'])\n",
    "        df.set_index('Date', inplace=True)\n",
    "        stock_dfs[ticker] = df"
   ]
  },
  {
   "cell_type": "code",
   "execution_count": null,
   "id": "d76f33fb",
   "metadata": {},
   "outputs": [],
   "source": [
    "for ticker, df in stock_dfs.items():\n",
    "    df.dropna(subset=['Open', 'High', 'Low', 'Close', 'Volume'], inplace=True)\n",
    "    df.sort_index(inplace=True)"
   ]
  },
  {
   "cell_type": "code",
   "execution_count": null,
   "id": "0a37daef",
   "metadata": {},
   "outputs": [],
   "source": [
    "import talib\n",
    "\n",
    "df = stock_dfs['AAPL']\n",
    "df['SMA_20'] = talib.SMA(df['Close'], timeperiod=20)\n",
    "df['EMA_20'] = talib.EMA(df['Close'], timeperiod=20)\n",
    "df['RSI'] = talib.RSI(df['Close'], timeperiod=14)\n",
    "\n",
    "macd, macdsignal, macdhist = talib.MACD(df['Close'], fastperiod=12, slowperiod=26, signalperiod=9)\n",
    "df['MACD'] = macd\n",
    "df['MACD_signal'] = macdsignal"
   ]
  },
  {
   "cell_type": "code",
   "execution_count": null,
   "id": "2a6cb89f",
   "metadata": {},
   "outputs": [],
   "source": [
    "import matplotlib.pyplot as plt\n",
    "\n",
    "plt.figure(figsize=(14, 6))\n",
    "plt.plot(df.index, df['Close'], label='Close Price')\n",
    "plt.plot(df.index, df['SMA_20'], label='SMA 20', linestyle='--')\n",
    "plt.plot(df.index, df['EMA_20'], label='EMA 20', linestyle='-.')\n",
    "plt.title('AAPL - Price with SMA and EMA')\n",
    "plt.xlabel('Date')\n",
    "plt.ylabel('Price')\n",
    "plt.legend()\n",
    "plt.grid(True)\n",
    "plt.tight_layout()\n",
    "plt.show()"
   ]
  },
  {
   "cell_type": "code",
   "execution_count": null,
   "id": "851b082f",
   "metadata": {},
   "outputs": [],
   "source": [
    "for ticker, df in stock_dfs.items():\n",
    "    df.to_csv(f'../data/processed/{ticker}_with_indicators.csv')"
   ]
  }
 ],
 "metadata": {
  "language_info": {
   "name": "python"
  }
 },
 "nbformat": 4,
 "nbformat_minor": 5
}
